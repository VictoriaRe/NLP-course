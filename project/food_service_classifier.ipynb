{
 "cells": [
  {
   "cell_type": "code",
   "execution_count": 1,
   "metadata": {
    "colab": {
     "base_uri": "https://localhost:8080/",
     "height": 140
    },
    "colab_type": "code",
    "id": "GEcPyHTXbC9s",
    "outputId": "a39d93fc-a3bd-433c-b50b-05599e4c891b"
   },
   "outputs": [
    {
     "name": "stdout",
     "output_type": "stream",
     "text": [
      "Requirement already satisfied: networkx in /anaconda3/lib/python3.6/site-packages (2.1)\n",
      "Requirement already satisfied: decorator>=4.1.0 in /anaconda3/lib/python3.6/site-packages (from networkx) (4.2.1)\n",
      "\u001b[33mYou are using pip version 18.0, however version 19.3.1 is available.\n",
      "You should consider upgrading via the 'pip install --upgrade pip' command.\u001b[0m\n"
     ]
    }
   ],
   "source": [
    "!pip3 install networkx"
   ]
  },
  {
   "cell_type": "code",
   "execution_count": 2,
   "metadata": {
    "colab": {
     "base_uri": "https://localhost:8080/",
     "height": 63
    },
    "colab_type": "code",
    "id": "9-NqnYzYbnZo",
    "outputId": "c75dffb9-72e3-4599-9568-efedc2fb96d8"
   },
   "outputs": [
    {
     "name": "stdout",
     "output_type": "stream",
     "text": [
      "Requirement already satisfied: wiki_ru_wordnet in /anaconda3/lib/python3.6/site-packages (1.0.3)\n",
      "\u001b[33mYou are using pip version 18.0, however version 19.3.1 is available.\n",
      "You should consider upgrading via the 'pip install --upgrade pip' command.\u001b[0m\n"
     ]
    }
   ],
   "source": [
    "!pip3 install wiki_ru_wordnet"
   ]
  },
  {
   "cell_type": "code",
   "execution_count": 3,
   "metadata": {
    "colab": {
     "base_uri": "https://localhost:8080/",
     "height": 63
    },
    "colab_type": "code",
    "id": "r-YlpW8esMRE",
    "outputId": "6c8b7ed1-e1e0-4b7e-9305-3f4b1ef09d2c"
   },
   "outputs": [
    {
     "name": "stdout",
     "output_type": "stream",
     "text": [
      "Requirement already satisfied: conllu in /anaconda3/lib/python3.6/site-packages (1.3.1)\n",
      "\u001b[33mYou are using pip version 18.0, however version 19.3.1 is available.\n",
      "You should consider upgrading via the 'pip install --upgrade pip' command.\u001b[0m\n"
     ]
    }
   ],
   "source": [
    "!pip3 install conllu"
   ]
  },
  {
   "cell_type": "code",
   "execution_count": 4,
   "metadata": {
    "colab": {
     "base_uri": "https://localhost:8080/",
     "height": 51
    },
    "colab_type": "code",
    "id": "6q-PjITobQDP",
    "outputId": "8284ad3a-4667-46a7-ce92-df2dae92c957",
    "scrolled": true
   },
   "outputs": [
    {
     "name": "stdout",
     "output_type": "stream",
     "text": [
      "[nltk_data] Downloading package wordnet to\n",
      "[nltk_data]     /Users/victoriaregina/nltk_data...\n",
      "[nltk_data]   Package wordnet is already up-to-date!\n"
     ]
    }
   ],
   "source": [
    "import os\n",
    "from io import open\n",
    "from conllu import parse_incr\n",
    "from conllu import parse\n",
    "import nltk\n",
    "nltk.download('wordnet')\n",
    "import re\n",
    "import pickle\n",
    "import networkx as nx\n",
    "from nltk.corpus import wordnet as wn\n",
    "from matplotlib import pyplot as plt\n",
    "%matplotlib inline\n",
    "\n",
    "from wiki_ru_wordnet import WikiWordnet\n",
    "ruwn = WikiWordnet()"
   ]
  },
  {
   "cell_type": "code",
   "execution_count": 11,
   "metadata": {},
   "outputs": [],
   "source": [
    "with open('vocab.pickle', 'rb') as f:\n",
    "    lemmas_vocab = pickle.load(f)"
   ]
  },
  {
   "cell_type": "code",
   "execution_count": 16,
   "metadata": {},
   "outputs": [],
   "source": [
    "def UDPipe_processing(sentimentwords):\n",
    "    \n",
    "    food_vocab = {}\n",
    "    service_vocab = {}\n",
    "    massive = []\n",
    "    \n",
    "    for i, filename in enumerate(os.listdir('parsed texts')):\n",
    "        \n",
    "        food_or_service_d = {}\n",
    "\n",
    "        data_file = open('parsed texts/' + filename, \"r\", encoding=\"utf-8\")\n",
    "\n",
    "        for id_sent, tokenlist in enumerate(parse_incr(data_file)):\n",
    "\n",
    "            for token in tokenlist:\n",
    "\n",
    "                if token['lemma'] in sentimentwords:\n",
    "\n",
    "                    if token['upostag'] == 'VERB':\n",
    "\n",
    "                          for dependent in tokenlist:\n",
    "\n",
    "                                if dependent['upostag'] != 'PUNCT'and dependent['upostag'] != 'NUM' and dependent['head'] == token['id']:\n",
    "\n",
    "                                    food_or_service_d[dependent['lemma'], id_sent] = token['lemma'] + '\\t' + filename + '\\t' + str(id_sent+1) + '\\t' + str(token['id']) + '\\t' + str(sentimentwords[token['lemma']])\n",
    "\n",
    "                    else:\n",
    "\n",
    "                        for head in tokenlist:\n",
    "\n",
    "                            if token['head'] == head['id']:\n",
    "\n",
    "                                food_or_service_d[head['lemma'], id_sent] = token['lemma'] + '\\t' + filename + '\\t'+  str(id_sent+1) + '\\t' + str(token['id']) + '\\t' + str(sentimentwords[token['lemma']])\n",
    "        \n",
    "        massiv = food_or_service(food_or_service_d, food_vocab, service_vocab)\n",
    "        massive.append(massiv)\n",
    "        file = open(filename.split('.')[0] + '.txt', 'w')\n",
    "        for elem in massiv:\n",
    "            file.write(elem)\n",
    "            file.write('\\n')\n",
    "        file.close()\n",
    "        \n",
    "        file_food = open('Food_words.txt', 'w')\n",
    "        for key in food_vocab:\n",
    "            file_food.write('Food\\t' + key + '\\t' + food_vocab[key] + '\\n')\n",
    "        file_food.close()\n",
    "        \n",
    "        file_service = open('Service_words.txt', 'w')\n",
    "        for k in service_vocab:\n",
    "            file_service.write('Service\\t' + k + '\\t' + service_vocab[k] + '\\n')\n",
    "        file_service.close()\n",
    "        \n",
    "    return massive"
   ]
  },
  {
   "cell_type": "code",
   "execution_count": 17,
   "metadata": {},
   "outputs": [],
   "source": [
    "def food_or_service(input_fs, food_vocab, service_vocab):\n",
    "    \n",
    "    a = []\n",
    "    \n",
    "    dict_food = ['еда','блюдо','кухня','салат','суп','пища']\n",
    "    dict_service = ['обслуживание','официант','официант','персонал','работник','сотрудник']\n",
    "    \n",
    "    for key, value in input_fs.items():\n",
    "        key = key[0]\n",
    "        \n",
    "        if key in dict_food:\n",
    "            res = 'Food'\n",
    "            make_tags_txt(value, res, a, food_vocab, service_vocab)\n",
    "        \n",
    "        elif key in dict_service:\n",
    "            res = 'Service' \n",
    "            make_tags_txt(value, res, a, food_vocab, service_vocab)\n",
    "        \n",
    "        else:\n",
    "            for i in range(1):\n",
    "                try:\n",
    "                    s = ruwn.get_synsets(key)[i]\n",
    "                    for w in s.get_words():\n",
    "                        for key_word in dict_food:\n",
    "                              if key_word in w.definition():\n",
    "                                res = 'Food'\n",
    "                                make_tags_txt(value, res, a, food_vocab, service_vocab)\n",
    "                    pass\n",
    "\n",
    "                    for key_word in dict_service:\n",
    "                          if key_word in w.definition():\n",
    "                            res = 'Service'\n",
    "                            make_tags_txt(value, res, a, food_vocab, service_vocab)\n",
    "                \n",
    "                except(IndexError):\n",
    "                      pass\n",
    "    return a"
   ]
  },
  {
   "cell_type": "code",
   "execution_count": 18,
   "metadata": {
    "colab": {},
    "colab_type": "code",
    "id": "CRzTcPD0mLw7"
   },
   "outputs": [],
   "source": [
    "def make_tags_txt(text, res, array, food_vocab, service_vocab):\n",
    "    \n",
    "    meta_data = text.split('\\t')\n",
    "    \n",
    "    lemma = meta_data[0]\n",
    "    id_doc = meta_data[1].split('.')[0]\n",
    "    id_sent = meta_data[2]\n",
    "    id_token = meta_data[3]\n",
    "    ton = meta_data[4].split('\\n')[0]\n",
    "    \n",
    "    if res == 'Food':\n",
    "        food_vocab[lemma] = ton\n",
    "    if res == 'Service':\n",
    "        service_vocab[lemma] = ton\n",
    "    \n",
    "    t = ''\n",
    "\n",
    "    if len(array) > 0:\n",
    "        previous = array[-1].split('\\t')\n",
    "        if str(previous[0]) == str(id_sent) and str(previous[2]) == str(res) and str(previous[3]) == str(ton):\n",
    "            array.pop()\n",
    "            if previous[1] != id_token:\n",
    "                t = id_sent + '\\t' + previous[1] + ',' + id_token + '\\t' + res + '\\t' + ton\n",
    "                array.append(t)\n",
    "            else:\n",
    "                pass\n",
    "        else:\n",
    "            t = id_sent + '\\t' + id_token + '\\t' + res + '\\t' + ton\n",
    "            array.append(t)\n",
    "    else:\n",
    "        t = id_sent + '\\t' + id_token + '\\t' + res + '\\t' + ton\n",
    "        array.append(t)\n",
    "    \n",
    "    return array"
   ]
  },
  {
   "cell_type": "code",
   "execution_count": 19,
   "metadata": {
    "colab": {
     "base_uri": "https://localhost:8080/",
     "height": 170
    },
    "colab_type": "code",
    "id": "af9rgSa6wIzN",
    "outputId": "f05dd41c-d5cf-4ee6-a122-0dd70a4752b1"
   },
   "outputs": [],
   "source": [
    "m = UDPipe_processing(lemmas_vocab)"
   ]
  }
 ],
 "metadata": {
  "accelerator": "GPU",
  "colab": {
   "name": "Автобрея проект.ipynb",
   "provenance": []
  },
  "kernelspec": {
   "display_name": "Python 3",
   "language": "python",
   "name": "python3"
  },
  "language_info": {
   "codemirror_mode": {
    "name": "ipython",
    "version": 3
   },
   "file_extension": ".py",
   "mimetype": "text/x-python",
   "name": "python",
   "nbconvert_exporter": "python",
   "pygments_lexer": "ipython3",
   "version": "3.6.4"
  }
 },
 "nbformat": 4,
 "nbformat_minor": 1
}
