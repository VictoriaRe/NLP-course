{
  "nbformat": 4,
  "nbformat_minor": 0,
  "metadata": {
    "kernelspec": {
      "display_name": "Python 3",
      "language": "python",
      "name": "python3"
    },
    "language_info": {
      "codemirror_mode": {
        "name": "ipython",
        "version": 3
      },
      "file_extension": ".py",
      "mimetype": "text/x-python",
      "name": "python",
      "nbconvert_exporter": "python",
      "pygments_lexer": "ipython3",
      "version": "3.7.3"
    },
    "colab": {
      "name": "HW_2 (1).ipynb",
      "provenance": [],
      "toc_visible": true
    }
  },
  "cells": [
    {
      "cell_type": "markdown",
      "metadata": {
        "id": "X3jl7L5iaHOx",
        "colab_type": "text"
      },
      "source": [
        "Скачайте корпус текстов, обработайте его с помощью UDPipe, извлеките все группы \"глагол + прямое дополнение, выраженное существительным\" (не учитывайте глаголы, которые встречаются в корпусе менее 50 раз)."
      ]
    },
    {
      "cell_type": "code",
      "metadata": {
        "id": "xGp8rw3sYvOf",
        "colab_type": "code",
        "colab": {}
      },
      "source": [
        "!ls\n"
      ],
      "execution_count": 0,
      "outputs": []
    },
    {
      "cell_type": "markdown",
      "metadata": {
        "id": "kGL9Cf2L-so2",
        "colab_type": "text"
      },
      "source": [
        "### **этот модуль делаем на компе, загружаем готовый файл** \".conllu\""
      ]
    },
    {
      "cell_type": "code",
      "metadata": {
        "id": "FqP2GvwgaD5S",
        "colab_type": "code",
        "colab": {}
      },
      "source": [
        "#'этот модуль делаем на комппе, после чего загружаем готовый файл testset2.conllu в colab\n",
        "!C:\\Users\\Administrator\\NLP_Admin\\udpipe-1.2.0-bin\\bin-osx\\udpipe --input horizontal --output conllu \\\n",
        "--tokenize --tag --parse \\\n",
        "D:\\__NLP\\Model_UDPipe\\russian-syntagrus-ud-2.4-190531.udpipe \\\n",
        "< testset2.txt > testset2.conllu"
      ],
      "execution_count": 0,
      "outputs": []
    },
    {
      "cell_type": "code",
      "metadata": {
        "id": "vh-o8wXkXCvR",
        "colab_type": "code",
        "colab": {
          "base_uri": "https://localhost:8080/",
          "height": 34
        },
        "outputId": "77129d53-71b6-4df0-d0e3-74e6df81f25a"
      },
      "source": [
        "\n",
        "with open('testset2.conllu', 'r', encoding='utf-8') as f: #, encoding='utf-8'\n",
        "    text = f.read()\n",
        "print(len(text))"
      ],
      "execution_count": 1,
      "outputs": [
        {
          "output_type": "stream",
          "text": [
            "12434505\n"
          ],
          "name": "stdout"
        }
      ]
    },
    {
      "cell_type": "code",
      "metadata": {
        "id": "AeIYIsWEXCvx",
        "colab_type": "code",
        "colab": {}
      },
      "source": [
        "from nltk.parse import DependencyGraph\n"
      ],
      "execution_count": 0,
      "outputs": []
    },
    {
      "cell_type": "code",
      "metadata": {
        "id": "IHTjY7VvXCv9",
        "colab_type": "code",
        "colab": {}
      },
      "source": [
        "trees = []\n",
        "\n",
        "with open('testset2.conllu', 'r', encoding='utf-8') as f:\n",
        "    parsed_sents = f.read().split('\\n\\n')\n",
        "    for sent in parsed_sents:\n",
        "        tree = [line for line in sent.split('\\n') if line and line[0] != '#']\n",
        "        trees.append('\\n'.join(tree))"
      ],
      "execution_count": 0,
      "outputs": []
    },
    {
      "cell_type": "code",
      "metadata": {
        "id": "OnHEhc56XCwT",
        "colab_type": "code",
        "colab": {}
      },
      "source": [
        "g = DependencyGraph(trees[8], top_relation_label='root')"
      ],
      "execution_count": 0,
      "outputs": []
    },
    {
      "cell_type": "code",
      "metadata": {
        "id": "tHFLm-RMXCxD",
        "colab_type": "code",
        "colab": {}
      },
      "source": [
        "_FILTER_RELS = ['obj']\n",
        "def get_subtree(nodes, node):\n",
        "    res=[]\n",
        "    if 'deps' in nodes[node]:\n",
        "        for rel in nodes[node]['deps']:\n",
        "            if rel in _FILTER_RELS:\n",
        "                for dep in nodes[node]['deps'][rel]:\n",
        "                    res.append(dep)\n",
        "    return res          \n",
        "                          "
      ],
      "execution_count": 0,
      "outputs": []
    },
    {
      "cell_type": "code",
      "metadata": {
        "id": "iqT-NNQbXCxL",
        "colab_type": "code",
        "colab": {}
      },
      "source": [
        "def flatten(l):\n",
        "    flat = []\n",
        "    for el in l:\n",
        "        if not isinstance(el, list):\n",
        "            flat.append(el)\n",
        "        else:\n",
        "            flat += flatten(el)\n",
        "    return flat"
      ],
      "execution_count": 0,
      "outputs": []
    },
    {
      "cell_type": "code",
      "metadata": {
        "id": "cHWuVzWiXCxh",
        "colab_type": "code",
        "colab": {}
      },
      "source": [
        "result = []\n",
        "verbs_count={}\n",
        "verbs=[]\n",
        "N=0\n",
        "for t in trees:\n",
        "  try:\n",
        "    g = DependencyGraph(t, top_relation_label='root')\n",
        "    np_list = []\n",
        "    for n in g.nodes:\n",
        "        if g.nodes[n]['ctag'] == 'VERB':\n",
        "          verb=g.nodes[n]['word'].lower()\n",
        "          verbs.append(verb)\n",
        "          \n",
        "          np = list(sorted(get_subtree(g.nodes, n)))\n",
        "          for i in np:\n",
        "            w2=g.nodes[n]['word']+' '+g.nodes[i]['word']\n",
        "            np_list.append((g.nodes[n]['word'], g.nodes[i]['word']))\n",
        "    \n",
        "    if len(np_list)>0:\n",
        "      for el in np_list:\n",
        "        result.append(el)\n",
        "  except:\n",
        "    print('ERROR:', t)\n",
        "\n",
        "#verbs=set(verbs)\n",
        "#print(verbs_count)\n",
        "#print(verbs)\n",
        "result"
      ],
      "execution_count": 0,
      "outputs": []
    },
    {
      "cell_type": "code",
      "metadata": {
        "id": "zKIlsfK1lKVO",
        "colab_type": "code",
        "colab": {}
      },
      "source": [
        "def select_pair(pair, List_verbs):\n",
        "  #print(len(pair),len(List_verbs))\n",
        "  res=[]\n",
        "  for p in pair:\n",
        "    for x in p:\n",
        "      word_pair=set(x.split())\n",
        "      #print(word_pair)\n",
        "      #print(word_pair.intersection(List_verbs))\n",
        "\n",
        "      if len(word_pair.intersection(List_verbs))>0:\n",
        "        res.append(p)\n",
        "     \n",
        "  return res\n"
      ],
      "execution_count": 0,
      "outputs": []
    },
    {
      "cell_type": "code",
      "metadata": {
        "id": "xRqNqzBPoGDi",
        "colab_type": "code",
        "colab": {}
      },
      "source": [
        "list_pair=select_pair(result, verbs)\n",
        "list_pair[10:20]"
      ],
      "execution_count": 0,
      "outputs": []
    },
    {
      "cell_type": "code",
      "metadata": {
        "id": "DTtTS7lgMcWV",
        "colab_type": "code",
        "colab": {}
      },
      "source": [
        "from collections import Counter\n",
        "verbs_count = Counter(verbs)\n",
        "#print(verbs_count)\n",
        "verbs_more_50 = [ w for w in verbs_count.elements() if verbs_count[w] >= 50]\n",
        "\n",
        "list_pair=select_pair(result, verbs_more_50)\n",
        "\n",
        "verbs_more_50 =set(verbs_more_50)\n",
        "#verbs_50 =Counter(verbs_more_50)\n",
        "list_pair\n",
        "#verbs_more_50\n",
        "\n",
        "#print(list_pair)\n"
      ],
      "execution_count": 0,
      "outputs": []
    },
    {
      "cell_type": "code",
      "metadata": {
        "id": "qa1m9vOlDi2h",
        "colab_type": "code",
        "colab": {
          "base_uri": "https://localhost:8080/",
          "height": 34
        },
        "outputId": "72f2dd3f-c46b-41e5-8e9c-7c68c8abb092"
      },
      "source": [
        "#преобразуем пару глагол + сущ в первонач форму\n",
        "verb_noun_norm=[]\n",
        "#print(List_pair)\n",
        "for p in list_pair:\n",
        "  if len(p[0])>1 and len(p[1])>1: #исключем случайный мусор, который попал\n",
        "    el1=m.parse(p[0])[0].normal_form\n",
        "    el2=m.parse(p[1])[0].normal_form\n",
        "    norm_pair=(el1,el2)\n",
        "    verb_noun_norm.append(norm_pair)\n",
        "\n",
        "len(verb_noun_norm)"
      ],
      "execution_count": 28,
      "outputs": [
        {
          "output_type": "execute_result",
          "data": {
            "text/plain": [
              "1041"
            ]
          },
          "metadata": {
            "tags": []
          },
          "execution_count": 28
        }
      ]
    },
    {
      "cell_type": "code",
      "metadata": {
        "id": "i3pz3MM2XCxx",
        "colab_type": "code",
        "colab": {
          "base_uri": "https://localhost:8080/",
          "height": 51
        },
        "outputId": "8d06733c-217d-4d7d-92b9-60c78e42014b"
      },
      "source": [
        "import nltk\n",
        "from nltk.corpus import stopwords\n",
        "nltk.download('stopwords')\n",
        "stop_words = stopwords.words('russian')\n",
        "#stop"
      ],
      "execution_count": 29,
      "outputs": [
        {
          "output_type": "stream",
          "text": [
            "[nltk_data] Downloading package stopwords to /root/nltk_data...\n",
            "[nltk_data]   Unzipping corpora/stopwords.zip.\n"
          ],
          "name": "stdout"
        }
      ]
    },
    {
      "cell_type": "markdown",
      "metadata": {
        "id": "HL21rscBqcye",
        "colab_type": "text"
      },
      "source": [
        "**2. Оцените полученные словосочетания следующими метриками: log-likelihood, dice, PMI (можно использовать nltk.collocations).**"
      ]
    },
    {
      "cell_type": "code",
      "metadata": {
        "id": "vUR3HsKtu8gp",
        "colab_type": "code",
        "colab": {}
      },
      "source": [
        "!pip install pymorphy2\n"
      ],
      "execution_count": 0,
      "outputs": []
    },
    {
      "cell_type": "code",
      "metadata": {
        "id": "JX6Z6CNYtayq",
        "colab_type": "code",
        "colab": {}
      },
      "source": [
        "#import nltk\n",
        "import pymorphy2\n",
        "#from nltk import collocations\n",
        "\n",
        "from pymorphy2 import MorphAnalyzer\n",
        "\n",
        "m = MorphAnalyzer()\n",
        "\n",
        "from nltk.tokenize import RegexpTokenizer\n",
        "\n",
        "tokenizer = RegexpTokenizer(r'\\w+')"
      ],
      "execution_count": 0,
      "outputs": []
    },
    {
      "cell_type": "code",
      "metadata": {
        "id": "343heyRzXCyh",
        "colab_type": "code",
        "colab": {}
      },
      "source": [
        "def normalize(text):\n",
        "    tokens = tokenizer.tokenize(text.lower())\n",
        "    lemmas = [m.parse(t)[0].normal_form for t in tokens]\n",
        "    return lemmas"
      ],
      "execution_count": 0,
      "outputs": []
    },
    {
      "cell_type": "code",
      "metadata": {
        "id": "94lFM5DJv1ne",
        "colab_type": "code",
        "colab": {}
      },
      "source": [
        "import nltk\n",
        "from nltk import collocations "
      ],
      "execution_count": 0,
      "outputs": []
    },
    {
      "cell_type": "code",
      "metadata": {
        "id": "uRUd87C6QEnT",
        "colab_type": "code",
        "colab": {
          "base_uri": "https://localhost:8080/",
          "height": 34
        },
        "outputId": "e73fd9af-ac71-4166-a4a6-af0f65f27f35"
      },
      "source": [
        "with open('testset2.txt', 'r', encoding='utf-8') as f: #, encoding='utf-8'\n",
        "    testset2 = f.read()\n",
        "len(testset2)"
      ],
      "execution_count": 37,
      "outputs": [
        {
          "output_type": "execute_result",
          "data": {
            "text/plain": [
              "1037281"
            ]
          },
          "metadata": {
            "tags": []
          },
          "execution_count": 37
        }
      ]
    },
    {
      "cell_type": "code",
      "metadata": {
        "id": "ib8kKSbBQqiV",
        "colab_type": "code",
        "colab": {}
      },
      "source": [
        "finder_test = collocations.BigramCollocationFinder.from_documents([normalize(testset2)])"
      ],
      "execution_count": 0,
      "outputs": []
    },
    {
      "cell_type": "code",
      "metadata": {
        "id": "YenbWDobRM05",
        "colab_type": "code",
        "colab": {}
      },
      "source": [
        "finder_test.apply_ngram_filter(lambda w1, w2: (w1, w2) not in verb_noun_norm)"
      ],
      "execution_count": 0,
      "outputs": []
    },
    {
      "cell_type": "markdown",
      "metadata": {
        "id": "wppR68wGT9VR",
        "colab_type": "text"
      },
      "source": [
        "**-log-likeLlihood**"
      ]
    },
    {
      "cell_type": "code",
      "metadata": {
        "id": "dzHl_onPRg-G",
        "colab_type": "code",
        "colab": {}
      },
      "source": [
        "finder_test.score_ngrams(collocations.BigramAssocMeasures().likelihood_ratio)"
      ],
      "execution_count": 0,
      "outputs": []
    },
    {
      "cell_type": "code",
      "metadata": {
        "id": "9hTKe_V5SfcV",
        "colab_type": "code",
        "colab": {}
      },
      "source": [
        "likelihood_100 = finder_test.nbest(collocations.BigramAssocMeasures().likelihood_ratio, 100)\n",
        "#len(likelihood_100)"
      ],
      "execution_count": 0,
      "outputs": []
    },
    {
      "cell_type": "markdown",
      "metadata": {
        "id": "RuxFkWxWUtwJ",
        "colab_type": "text"
      },
      "source": [
        "**-Dice**"
      ]
    },
    {
      "cell_type": "code",
      "metadata": {
        "id": "ymoX10h0T7c0",
        "colab_type": "code",
        "colab": {}
      },
      "source": [
        "finder_test.score_ngrams(collocations.BigramAssocMeasures().dice)"
      ],
      "execution_count": 0,
      "outputs": []
    },
    {
      "cell_type": "code",
      "metadata": {
        "id": "r9Kr6as0VE6c",
        "colab_type": "code",
        "colab": {}
      },
      "source": [
        "dice_100 = finder_test.nbest(collocations.BigramAssocMeasures().dice, 100)\n",
        "dice_100"
      ],
      "execution_count": 0,
      "outputs": []
    },
    {
      "cell_type": "markdown",
      "metadata": {
        "id": "eD4AGmJVVgB0",
        "colab_type": "text"
      },
      "source": [
        "**-PMI**"
      ]
    },
    {
      "cell_type": "code",
      "metadata": {
        "colab_type": "code",
        "id": "sjLOLnu0VuLU",
        "colab": {}
      },
      "source": [
        "finder_test.score_ngrams(collocations.BigramAssocMeasures().pmi)"
      ],
      "execution_count": 0,
      "outputs": []
    },
    {
      "cell_type": "code",
      "metadata": {
        "colab_type": "code",
        "id": "inB9kZENV9Dg",
        "colab": {}
      },
      "source": [
        "pmi_100 = finder_test.nbest(collocations.BigramAssocMeasures().pmi, 100)\n",
        "pmi_100"
      ],
      "execution_count": 0,
      "outputs": []
    },
    {
      "cell_type": "markdown",
      "metadata": {
        "id": "FkzFkn7AWkAh",
        "colab_type": "text"
      },
      "source": [
        "**3. Подготовьте \"золотой стандарт\" коллокаций (далее ЗС) для этого корпуса: возьмите словосочетания, которые попадают в топ-100 по всем метрикам, пересеките со словарем глагольной сочетаемости.**"
      ]
    },
    {
      "cell_type": "code",
      "metadata": {
        "id": "cUpqQJj0WsW8",
        "colab_type": "code",
        "colab": {}
      },
      "source": [
        "GS_coll=set(likelihood_100).intersection(dice_100)\n",
        "GS_coll=set(GS_coll).intersection(pmi_100)\n",
        "GS_coll"
      ],
      "execution_count": 0,
      "outputs": []
    },
    {
      "cell_type": "code",
      "metadata": {
        "colab_type": "code",
        "id": "afhYEDOaY183",
        "colab": {}
      },
      "source": [
        "import re\n",
        "\n",
        "with open('verb_coll.txt', 'r', encoding='utf-8') as f:\n",
        "    verb_txt = f.read()\n",
        "\n",
        "# из корпуса вытаскиваем пары verb-noun\n",
        "verb_coll=[]\n",
        "pattern='VN.*\\n'   \n",
        "match = re.findall(pattern, verb_txt) \n",
        "for s in match:\n",
        "    s=s.replace('VN','')\n",
        "    s = re.sub(r'\\s+', ' ', s, flags=re.UNICODE)\n",
        "    s=s.replace('\\n','')\n",
        "    \n",
        "    words = s.split()\n",
        "    if len(words)==2:\n",
        "        coll_lemm = (m.parse(words[0])[0].normal_form, m.parse(words[1])[0].normal_form)\n",
        "        verb_coll.append(coll_lemm)\n",
        "#print(verb_coll)"
      ],
      "execution_count": 0,
      "outputs": []
    },
    {
      "cell_type": "code",
      "metadata": {
        "id": "nJhiP4_KbPLE",
        "colab_type": "code",
        "colab": {
          "base_uri": "https://localhost:8080/",
          "height": 170
        },
        "outputId": "66819ae6-ad44-4bc0-bc96-17b75d26f57d"
      },
      "source": [
        "GS = set(GS_coll).intersection(set(verb_coll))\n",
        "GS"
      ],
      "execution_count": 57,
      "outputs": [
        {
          "output_type": "execute_result",
          "data": {
            "text/plain": [
              "{('вынести', 'определение'),\n",
              " ('вынести', 'постановление'),\n",
              " ('вынести', 'приговор'),\n",
              " ('вынести', 'решение'),\n",
              " ('подать', 'иск'),\n",
              " ('принять', 'решение'),\n",
              " ('принять', 'участие'),\n",
              " ('удовлетворить', 'иск'),\n",
              " ('удовлетворить', 'требование')}"
            ]
          },
          "metadata": {
            "tags": []
          },
          "execution_count": 57
        }
      ]
    },
    {
      "cell_type": "markdown",
      "metadata": {
        "id": "A7K0FBJAujZO",
        "colab_type": "text"
      },
      "source": [
        "**4. Добавьте в ЗС словосочетания из топ-100 , которые не вошли в словарь, но являются коллокациями (если такие есть), объясните свой выбор.**"
      ]
    },
    {
      "cell_type": "code",
      "metadata": {
        "id": "tbVRQ3LO6Zaq",
        "colab_type": "code",
        "colab": {}
      },
      "source": [
        "add_coll={\n",
        " ('вынести', 'вердикт'),\n",
        " ('выплатить', 'дивиденд'),\n",
        " ('выплатить', 'компенсация'),\n",
        " ('выплатить', 'штраф'),\n",
        " ('отклонить', 'апелляция'),\n",
        " ('отклонить', 'жалоба'),\n",
        " ('отклонить', 'иск'),\n",
        " ('отклонить', 'ходатайство'),\n",
        " ('подать', 'апелляция'),\n",
        " ('подать', 'иск'),\n",
        " ('подать', 'кассация'),\n",
        " ('подтвердить', 'законность'),\n",
        " ('подтвердить', 'запрет'),\n",
        " ('подтвердить', 'информация'),\n",
        " ('подтвердить', 'правомерность'),\n",
        " ('подтвердить', 'правомочность'),\n",
        " ('признать', 'правота'),\n",
        " ('принять', 'решение'),\n",
        " ('принять', 'участие'),\n",
        " ('удовлетворить', 'жалоба'),\n",
        " ('удовлетворить', 'ходатайство')}\n",
        " "
      ],
      "execution_count": 0,
      "outputs": []
    },
    {
      "cell_type": "code",
      "metadata": {
        "id": "bEoIgOLK8M3G",
        "colab_type": "code",
        "colab": {
          "base_uri": "https://localhost:8080/",
          "height": 34
        },
        "outputId": "ecf55a51-49fb-4e0a-96ff-96e9f7c20e9e"
      },
      "source": [
        "GS=GS.union(add_coll)\n",
        "len(GS) #размер множества для расчета корреляций\n",
        "#GS"
      ],
      "execution_count": 59,
      "outputs": [
        {
          "output_type": "execute_result",
          "data": {
            "text/plain": [
              "27"
            ]
          },
          "metadata": {
            "tags": []
          },
          "execution_count": 59
        }
      ]
    },
    {
      "cell_type": "markdown",
      "metadata": {
        "id": "4oqd8IGuuved",
        "colab_type": "text"
      },
      "source": [
        "**5. Оцените ранговую корреляцию (коэффициент Спирмена) результатов по каждой метрике с ЗС. Можно использовать scipy.stats.spearmanr. Опишите ошибки каждой метрики.**"
      ]
    },
    {
      "cell_type": "code",
      "metadata": {
        "id": "9e8OIZqr4o0J",
        "colab_type": "code",
        "colab": {}
      },
      "source": [
        "from scipy.stats import spearmanr"
      ],
      "execution_count": 0,
      "outputs": []
    },
    {
      "cell_type": "code",
      "metadata": {
        "id": "OLhisE98dtsU",
        "colab_type": "code",
        "colab": {}
      },
      "source": [
        "like_27 = finder_test.nbest(collocations.BigramAssocMeasures().likelihood_ratio, 27)\n",
        "dice_27 = finder_test.nbest(collocations.BigramAssocMeasures().dice, 27)\n",
        "pmi_27 = finder_test.nbest(collocations.BigramAssocMeasures().pmi, 27)\n"
      ],
      "execution_count": 0,
      "outputs": []
    },
    {
      "cell_type": "code",
      "metadata": {
        "id": "XwoeJ8L-fRlG",
        "colab_type": "code",
        "colab": {}
      },
      "source": [
        "finder_test.apply_ngram_filter(lambda w1, w2: (w1, w2) not in GS)"
      ],
      "execution_count": 0,
      "outputs": []
    },
    {
      "cell_type": "code",
      "metadata": {
        "id": "jubEw3wugZS0",
        "colab_type": "code",
        "colab": {}
      },
      "source": [
        "def transform_to_row(list):\n",
        "    row = []\n",
        "    for el in list:\n",
        "        row.append(' '.join(el))\n",
        "    return row"
      ],
      "execution_count": 0,
      "outputs": []
    },
    {
      "cell_type": "code",
      "metadata": {
        "id": "XK2BbYRzhAoL",
        "colab_type": "code",
        "colab": {}
      },
      "source": [
        "row=transform_to_row(like_27)\n",
        "row"
      ],
      "execution_count": 0,
      "outputs": []
    },
    {
      "cell_type": "markdown",
      "metadata": {
        "id": "hUT-yYUOjqFO",
        "colab_type": "text"
      },
      "source": [
        "**likelihood spearmanr**"
      ]
    },
    {
      "cell_type": "code",
      "metadata": {
        "colab_type": "code",
        "outputId": "19f754ed-c531-497a-df8b-6e4ea646212b",
        "id": "jJhnbhMVkRu2",
        "colab": {
          "base_uri": "https://localhost:8080/",
          "height": 51
        }
      },
      "source": [
        "like_27_GS = finder_test.nbest(collocations.BigramAssocMeasures().likelihood_ratio, 27)\n",
        "rho, p = spearmanr(transform_to_row(like_27_GS), transform_to_row(like_27))\n",
        "print(f'rho_like: {rho}\\np_like: {p}')\n",
        "#like_27_GS"
      ],
      "execution_count": 0,
      "outputs": [
        {
          "output_type": "stream",
          "text": [
            "rho_like: 0.34859584859584863\n",
            "p_like: 0.07474551078913241\n"
          ],
          "name": "stdout"
        }
      ]
    },
    {
      "cell_type": "code",
      "metadata": {
        "id": "GYDjf1rJkYdN",
        "colab_type": "code",
        "colab": {}
      },
      "source": [
        ""
      ],
      "execution_count": 0,
      "outputs": []
    },
    {
      "cell_type": "code",
      "metadata": {
        "id": "Qfl_UbIXicol",
        "colab_type": "code",
        "outputId": "8619f375-ad54-427d-e7db-4b77324eba10",
        "colab": {
          "base_uri": "https://localhost:8080/",
          "height": 51
        }
      },
      "source": [
        "dice_27_GS = finder_test.nbest(collocations.BigramAssocMeasures().dice, 27)\n",
        "rho, p = spearmanr(transform_to_row(dice_27_GS), transform_to_row(dice_27))\n",
        "print(f'rho_dice: {rho}\\np_dice: {p}')\n"
      ],
      "execution_count": 77,
      "outputs": [
        {
          "output_type": "stream",
          "text": [
            "rho_dice: 0.5079365079365078\n",
            "p_dice: 0.006833748394532331\n"
          ],
          "name": "stdout"
        }
      ]
    },
    {
      "cell_type": "code",
      "metadata": {
        "id": "4pGiHNp7kww4",
        "colab_type": "code",
        "colab": {}
      },
      "source": [
        ""
      ],
      "execution_count": 0,
      "outputs": []
    },
    {
      "cell_type": "code",
      "metadata": {
        "colab_type": "code",
        "outputId": "d7a59b10-341e-4787-924a-f0487d65437f",
        "id": "GTlC8keTkxcu",
        "colab": {
          "base_uri": "https://localhost:8080/",
          "height": 51
        }
      },
      "source": [
        "pmi_27_GS = finder_test.nbest(collocations.BigramAssocMeasures().pmi, 27)\n",
        "rho, p = spearmanr(transform_to_row(pmi_27_GS), transform_to_row(pmi_27))\n",
        "print(f'rho_pmi: {rho}\\np_pmi: {p}')\n"
      ],
      "execution_count": 78,
      "outputs": [
        {
          "output_type": "stream",
          "text": [
            "rho_pmi: 0.2442002442002442\n",
            "p_pmi: 0.21961664482521304\n"
          ],
          "name": "stdout"
        }
      ]
    }
  ]
}