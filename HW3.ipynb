{
  "nbformat": 4,
  "nbformat_minor": 0,
  "metadata": {
    "colab": {
      "name": "HW3.ipynb",
      "provenance": [],
      "include_colab_link": true
    },
    "kernelspec": {
      "name": "python3",
      "display_name": "Python 3"
    }
  },
  "cells": [
    {
      "cell_type": "markdown",
      "metadata": {
        "id": "view-in-github",
        "colab_type": "text"
      },
      "source": [
        "<a href=\"https://colab.research.google.com/github/VictoriaRe/NLP-course/blob/master/HW3.ipynb\" target=\"_parent\"><img src=\"https://colab.research.google.com/assets/colab-badge.svg\" alt=\"Open In Colab\"/></a>"
      ]
    },
    {
      "cell_type": "markdown",
      "metadata": {
        "id": "-xwQWo80zuqB",
        "colab_type": "text"
      },
      "source": [
        "# **1**"
      ]
    },
    {
      "cell_type": "markdown",
      "metadata": {
        "id": "X0ug14jZz16E",
        "colab_type": "text"
      },
      "source": [
        "Выберите одну из предложенных лексем: свет, острый, лук, замок.\n",
        "\n",
        "Выберите 2-3 значения лексемы по словарю (рекомендую использовать МАС, обязательно напишите, каким словарем пользовались). Для каждого значения придумайте несколько \"диагностических\" слов (которые сигнализируют о реализации одного из значений в контексте): например, ключ — вода / дверь. Подберите по НКРЯ контексты для выбранной лексемы, содержащие диагностические слова. Таким образом, получается размеченный тестсет.\n",
        "\n"
      ]
    },
    {
      "cell_type": "markdown",
      "metadata": {
        "id": "JQvWKv2Hvuh_",
        "colab_type": "text"
      },
      "source": [
        "## ОСТРЫЙ (значения взяты из Большого толкового словаря, доступного на сайте [gramota.ru](http://gramota.ru/slovari/dic/?lop=x&bts=x&ro=x&zar=x&ag=x&ab=x&sin=x&lv=x&az=x&pe=x&word=острый))"
      ]
    },
    {
      "cell_type": "markdown",
      "metadata": {
        "id": "zju5aUPTWQi0",
        "colab_type": "text"
      },
      "source": [
        "(1) С большим количеством соли, пряностей, специй; едкий, пряный."
      ]
    },
    {
      "cell_type": "markdown",
      "metadata": {
        "id": "60geKrc4WXs5",
        "colab_type": "text"
      },
      "source": [
        "Диагонстические слова: блюдо, еда, перец, приправа"
      ]
    },
    {
      "cell_type": "code",
      "metadata": {
        "id": "pcY53WIRYP7M",
        "colab_type": "code",
        "colab": {}
      },
      "source": [
        "spicy_meal = 'Затем наступает время занятий. В шесть часов дежурные подают скромный завтрак: рис, варёные овощи и кимчи (традиционное острое блюдо из овощей). После завтрака монахи читают священные тексты и предаются размышлениям.'\n",
        "spicy_food1 = 'Павел молча поднялся и стал пробираться к стойке. Настя с ужасом думала о еще одной порции не в меру острой еды. Но ей хотелось непременно отправить Павла через весь зал, чтобы проверить свои подозрения. Ей нужно было понаблюдать за ним со стороны.'\n",
        "spicy_food2 = '–  Поверьте мне, Ольга, для тех, кто не употребляет горячительные напитки, острая еда – самый лучший способ согреться. –  Спасибо.  – Она взяла тарелку и стала осматриваться в поисках места, где можно было бы присесть или хотя бы удобно встать, желательно, в одиночестве.'\n",
        "spicy_pepper = 'Процеженный мясной бульон осветлить; оттяжку приготовить из дичи, тонко нарезанной свеклы, уксуса и яичных белков. После добавления оттяжки бульон нагреть до кипения и варить в течение 15-20 минут, затем заправить красным острым перцем. Для улучшения вкуса в бульон можно добавить небольшое количество сахара.'\n",
        "spicy_spice = 'В Венеции, где он не смог побывать, они были для него приготовлены 43. Это маринованные почки вечнозелёного средиземноморского кустарника Cappris spinosa, которые использовались как острая приправа к супам и мясным блюдам 44. Реже среди подарков фигурировали устрицы. Известно, что они закупались для угощения гостей во время Великого посольства 45.'\n",
        "\n",
        "spicy_contexts = [spicy_meal, spicy_food1, spicy_food2, spicy_pepper, spicy_spice]"
      ],
      "execution_count": 0,
      "outputs": []
    },
    {
      "cell_type": "markdown",
      "metadata": {
        "id": "X40vIEgrWjz9",
        "colab_type": "text"
      },
      "source": [
        "(2) Остроумный, язвительный."
      ]
    },
    {
      "cell_type": "markdown",
      "metadata": {
        "id": "webmIdYuXEL5",
        "colab_type": "text"
      },
      "source": [
        "Диагностические слова: шутка, язык, слово, замечание"
      ]
    },
    {
      "cell_type": "code",
      "metadata": {
        "id": "7wLjqN4saB8g",
        "colab_type": "code",
        "colab": {}
      },
      "source": [
        "acute_joke = 'А через год признали справедливость его слов и отметили уровень, на котором находится лаборатория. Плотные листы ватмана заполнены неумелыми, почти детскими рисунками ― художников в лаборатории нет, ― испещрены краткими, острыми шутками. Это номера стенгазеты, выпущенные к каждой из таких научных конференций. Всюду нарисована воронка «ВВ» и тщательно отмечен уровень'\n",
        "acute_language = 'Никогда не видел, чтобы фраза состояла из одного местоимения. В таких случаях надо иметь острый язык и быстро соображающую голову. '\n",
        "acute_word = 'Странно: последнее время дискуссий вроде бы стало больше, но ощущение пошлости усилилось. Не оттого ли, что теперь дозволены острые слова? Это даже поощряется. Кричите о коррупции и катастрофах, обвиняйте «верхи»'\n",
        "acute_comment = 'Мистер Рай Руп обнаружил выдающуюся эрудицию в области русской истории. С ним было чрезвычайно приятно беседовать ― обмениваться короткими, острыми замечаниями. Они сделали километров сто. Мистер Рай Руп безошибочно отнес маленькую деревянную почерневшую от времени церковку в одной из отдаленных казачьих станиц к началу восемнадцатого века.'\n",
        "\n",
        "acute_contexts = [acute_joke, acute_language, acute_word, acute_comment]"
      ],
      "execution_count": 0,
      "outputs": []
    },
    {
      "cell_type": "markdown",
      "metadata": {
        "id": "T0MnZVthXTI4",
        "colab_type": "text"
      },
      "source": [
        "(3) Хорошо развитой, изощрённый, тонкий."
      ]
    },
    {
      "cell_type": "markdown",
      "metadata": {
        "id": "AymSYhODXVwu",
        "colab_type": "text"
      },
      "source": [
        "Диагностические слова: ум, зрение, чутьё, нюх"
      ]
    },
    {
      "cell_type": "code",
      "metadata": {
        "id": "h1gXczIobeSK",
        "colab_type": "code",
        "colab": {}
      },
      "source": [
        "sharp_mind = 'Кое-кто пытался извернуться, быть оригинальным. Лучше всех это удалось одному физику, известному своим острым умом и своеобразностью мышления. ― Небось замучили, все спрашивают про кенгуру? ― сказал он. ― Точно угадал, ― обрадовался я.'\n",
        "sharp_sight = 'Максимальной скорости полёта 180 км/ ч, а по некоторым данным и 300 км/ ч, достигает при пикировании сокол сапсан. Самое острое зрение у беркута. Он замечает мышь с расстояния 1600 м, а кролика ― с 3 км. Наибольшая продолжительность жизни у королевского альбатроса ― до 80 лет. '\n",
        "sharp_feeling = 'Погляди на него тайком… По-видимому, острое чутье поэта ощущало запах грозы в воздухе. А чем тогда объяснить другое сбывшееся предсказание двадцатилетней в 1913 году Цветаевой?'\n",
        "sharp_scent = '― Именно поэтому я здесь, ― ответила Сперо. ― Мы знаем, что у менеджмента острый нюх на такие вещи, ― сказал Серж. ― Другого способа быть услышанными у нас просто не было. ― Что вы натворили?'\n",
        "\n",
        "sharp_contexts = [sharp_mind, sharp_sight, sharp_feeling, sharp_scent]"
      ],
      "execution_count": 0,
      "outputs": []
    },
    {
      "cell_type": "markdown",
      "metadata": {
        "id": "ctRCN2rcytu8",
        "colab_type": "text"
      },
      "source": [
        "# **2**"
      ]
    },
    {
      "cell_type": "markdown",
      "metadata": {
        "id": "CxnwrUa4vSeb",
        "colab_type": "text"
      },
      "source": [
        "Для каждого контекста определите значение автоматически — с помощью AdaGram / ELMo на выбор. В случае с AdaGram вы сразу получаете какой-то номер значения, с ELMo — нужно кластеризовать.\n",
        "\n"
      ]
    },
    {
      "cell_type": "code",
      "metadata": {
        "id": "KSX9yxL3edUY",
        "colab_type": "code",
        "colab": {
          "base_uri": "https://localhost:8080/",
          "height": 197
        },
        "outputId": "a50fe214-a11c-40ef-aabe-92948cc3bec3"
      },
      "source": [
        "!wget https://s3.amazonaws.com/kostia.lopuhin/all.a010.p10.d300.w5.m100.nonorm.slim.joblib"
      ],
      "execution_count": 4,
      "outputs": [
        {
          "output_type": "stream",
          "text": [
            "--2019-12-08 22:45:34--  https://s3.amazonaws.com/kostia.lopuhin/all.a010.p10.d300.w5.m100.nonorm.slim.joblib\n",
            "Resolving s3.amazonaws.com (s3.amazonaws.com)... 52.217.36.70\n",
            "Connecting to s3.amazonaws.com (s3.amazonaws.com)|52.217.36.70|:443... connected.\n",
            "HTTP request sent, awaiting response... 200 OK\n",
            "Length: 1462416741 (1.4G) [application/x-www-form-urlencoded]\n",
            "Saving to: ‘all.a010.p10.d300.w5.m100.nonorm.slim.joblib’\n",
            "\n",
            "all.a010.p10.d300.w 100%[===================>]   1.36G  61.3MB/s    in 22s     \n",
            "\n",
            "2019-12-08 22:45:56 (62.6 MB/s) - ‘all.a010.p10.d300.w5.m100.nonorm.slim.joblib’ saved [1462416741/1462416741]\n",
            "\n"
          ],
          "name": "stdout"
        }
      ]
    },
    {
      "cell_type": "code",
      "metadata": {
        "id": "Ukz6yz0lebKl",
        "colab_type": "code",
        "colab": {
          "base_uri": "https://localhost:8080/",
          "height": 330
        },
        "outputId": "5c31411e-965e-4b1a-f16b-c66a1a5378fd"
      },
      "source": [
        "!pip install git+https://github.com/lopuhin/python-adagram.git"
      ],
      "execution_count": 5,
      "outputs": [
        {
          "output_type": "stream",
          "text": [
            "Collecting git+https://github.com/lopuhin/python-adagram.git\n",
            "  Cloning https://github.com/lopuhin/python-adagram.git to /tmp/pip-req-build-jbzrg16a\n",
            "  Running command git clone -q https://github.com/lopuhin/python-adagram.git /tmp/pip-req-build-jbzrg16a\n",
            "Requirement already satisfied: cython in /usr/local/lib/python3.6/dist-packages (from adagram==0.0.1) (0.29.14)\n",
            "Requirement already satisfied: joblib in /usr/local/lib/python3.6/dist-packages (from adagram==0.0.1) (0.14.0)\n",
            "Requirement already satisfied: numpy>=1.9 in /usr/local/lib/python3.6/dist-packages (from adagram==0.0.1) (1.17.4)\n",
            "Requirement already satisfied: six in /usr/local/lib/python3.6/dist-packages (from adagram==0.0.1) (1.12.0)\n",
            "Building wheels for collected packages: adagram\n",
            "  Building wheel for adagram (setup.py) ... \u001b[?25l\u001b[?25hdone\n",
            "  Created wheel for adagram: filename=adagram-0.0.1-cp36-cp36m-linux_x86_64.whl size=464602 sha256=91e0f3b93ce75441f54b943ead31c28d4fd4bd77176001d004dad3ee3472757c\n",
            "  Stored in directory: /tmp/pip-ephem-wheel-cache-ed0vsc_q/wheels/11/0f/46/f5df96670df8f7973b4c2311ffc9b02e435a7bd3207f992c4d\n",
            "Successfully built adagram\n",
            "Installing collected packages: adagram\n",
            "Successfully installed adagram-0.0.1\n"
          ],
          "name": "stdout"
        }
      ]
    },
    {
      "cell_type": "code",
      "metadata": {
        "id": "L0TbV0o1irsC",
        "colab_type": "code",
        "colab": {
          "base_uri": "https://localhost:8080/",
          "height": 297
        },
        "outputId": "34bf90f7-cf22-4730-d954-a1b8ed861136"
      },
      "source": [
        "!pip install pymystem3==0.1.10"
      ],
      "execution_count": 6,
      "outputs": [
        {
          "output_type": "stream",
          "text": [
            "Collecting pymystem3==0.1.10\n",
            "  Downloading https://files.pythonhosted.org/packages/51/56/57e550b53587719e92330a79c7c0f555402d953b00700efae6d5ca53cdef/pymystem3-0.1.10-py3-none-any.whl\n",
            "Requirement already satisfied: requests in /usr/local/lib/python3.6/dist-packages (from pymystem3==0.1.10) (2.21.0)\n",
            "Requirement already satisfied: certifi>=2017.4.17 in /usr/local/lib/python3.6/dist-packages (from requests->pymystem3==0.1.10) (2019.11.28)\n",
            "Requirement already satisfied: urllib3<1.25,>=1.21.1 in /usr/local/lib/python3.6/dist-packages (from requests->pymystem3==0.1.10) (1.24.3)\n",
            "Requirement already satisfied: idna<2.9,>=2.5 in /usr/local/lib/python3.6/dist-packages (from requests->pymystem3==0.1.10) (2.8)\n",
            "Requirement already satisfied: chardet<3.1.0,>=3.0.2 in /usr/local/lib/python3.6/dist-packages (from requests->pymystem3==0.1.10) (3.0.4)\n",
            "Installing collected packages: pymystem3\n",
            "  Found existing installation: pymystem3 0.2.0\n",
            "    Uninstalling pymystem3-0.2.0:\n",
            "      Successfully uninstalled pymystem3-0.2.0\n",
            "Successfully installed pymystem3-0.1.10\n"
          ],
          "name": "stdout"
        }
      ]
    },
    {
      "cell_type": "code",
      "metadata": {
        "id": "aM7OMpXwubny",
        "colab_type": "code",
        "colab": {
          "base_uri": "https://localhost:8080/",
          "height": 32
        },
        "outputId": "754a4565-f3d0-42e1-e232-603f3f4685f0"
      },
      "source": [
        "import adagram\n",
        "from nltk.tokenize import RegexpTokenizer\n",
        "from pymystem3 import Mystem\n",
        "\n",
        "token = RegexpTokenizer('\\w+')\n",
        "mystem = Mystem()"
      ],
      "execution_count": 7,
      "outputs": [
        {
          "output_type": "stream",
          "text": [
            "Installing mystem to /root/.local/bin/mystem from http://download.cdn.yandex.net/mystem/mystem-3.0-linux3.1-64bit.tar.gz\n"
          ],
          "name": "stderr"
        }
      ]
    },
    {
      "cell_type": "code",
      "metadata": {
        "id": "tyhrJ19JfCPm",
        "colab_type": "code",
        "colab": {}
      },
      "source": [
        "vm = adagram.VectorModel.load('all.a010.p10.d300.w5.m100.nonorm.slim.joblib')"
      ],
      "execution_count": 0,
      "outputs": []
    },
    {
      "cell_type": "code",
      "metadata": {
        "id": "KlFD3gMUIKQh",
        "colab_type": "code",
        "colab": {
          "base_uri": "https://localhost:8080/",
          "height": 98
        },
        "outputId": "b14e8785-7d63-4689-e331-0052bb859f73"
      },
      "source": [
        "vm.word_sense_probs('острый')"
      ],
      "execution_count": 9,
      "outputs": [
        {
          "output_type": "execute_result",
          "data": {
            "text/plain": [
              "[(0, 0.07767787179352821),\n",
              " (1, 0.15569824496419105),\n",
              " (2, 0.22109164403437526),\n",
              " (3, 0.321297390807241),\n",
              " (4, 0.22423407098444537)]"
            ]
          },
          "metadata": {
            "tags": []
          },
          "execution_count": 9
        }
      ]
    },
    {
      "cell_type": "code",
      "metadata": {
        "id": "ziDHg7qYgE1H",
        "colab_type": "code",
        "colab": {}
      },
      "source": [
        "def tokenize(text):\n",
        "    return token.tokenize(text)"
      ],
      "execution_count": 0,
      "outputs": []
    },
    {
      "cell_type": "code",
      "metadata": {
        "id": "wPiWmu8keTho",
        "colab_type": "code",
        "colab": {}
      },
      "source": [
        "def disambiguate(model, word, context):\n",
        "  word, _ = lemmatized_context(word)\n",
        "  probs = model.disambiguate(word, lemmatized_context(context))\n",
        "  return 1 + probs.argmax()"
      ],
      "execution_count": 0,
      "outputs": []
    },
    {
      "cell_type": "code",
      "metadata": {
        "id": "IhSmjWAruvgv",
        "colab_type": "code",
        "colab": {}
      },
      "source": [
        "def lemmatized_context(s):\n",
        "  return [w.lower() for w in mystem.lemmatize(\" \".join(tokenize(s)))]"
      ],
      "execution_count": 0,
      "outputs": []
    },
    {
      "cell_type": "code",
      "metadata": {
        "id": "-DhlQIt6u0Jz",
        "colab_type": "code",
        "colab": {}
      },
      "source": [
        "def auto_def(context, vm, defs):\n",
        "  for con in context:\n",
        "    definition = disambiguate(vm, 'острый', con)\n",
        "    defs.append(definition)\n",
        "    print('Контекст: ', con, '\\nЗначение: ', definition)\n",
        "  return defs"
      ],
      "execution_count": 0,
      "outputs": []
    },
    {
      "cell_type": "code",
      "metadata": {
        "id": "zVdv5TCXvUaK",
        "colab_type": "code",
        "colab": {}
      },
      "source": [
        "contexts = [spicy_contexts, acute_contexts, sharp_contexts]"
      ],
      "execution_count": 0,
      "outputs": []
    },
    {
      "cell_type": "code",
      "metadata": {
        "id": "qHn2qb92vOp0",
        "colab_type": "code",
        "colab": {
          "base_uri": "https://localhost:8080/",
          "height": 503
        },
        "outputId": "caa678fd-af58-423c-b37a-46028716bcb7"
      },
      "source": [
        "def_cons = []\n",
        "for context in contexts:\n",
        "  d = auto_def(context, vm, def_cons)"
      ],
      "execution_count": 15,
      "outputs": [
        {
          "output_type": "stream",
          "text": [
            "Контекст:  Затем наступает время занятий. В шесть часов дежурные подают скромный завтрак: рис, варёные овощи и кимчи (традиционное острое блюдо из овощей). После завтрака монахи читают священные тексты и предаются размышлениям. \n",
            "Значение:  1\n",
            "Контекст:  Павел молча поднялся и стал пробираться к стойке. Настя с ужасом думала о еще одной порции не в меру острой еды. Но ей хотелось непременно отправить Павла через весь зал, чтобы проверить свои подозрения. Ей нужно было понаблюдать за ним со стороны. \n",
            "Значение:  5\n",
            "Контекст:  –  Поверьте мне, Ольга, для тех, кто не употребляет горячительные напитки, острая еда – самый лучший способ согреться. –  Спасибо.  – Она взяла тарелку и стала осматриваться в поисках места, где можно было бы присесть или хотя бы удобно встать, желательно, в одиночестве. \n",
            "Значение:  5\n",
            "Контекст:  Процеженный мясной бульон осветлить; оттяжку приготовить из дичи, тонко нарезанной свеклы, уксуса и яичных белков. После добавления оттяжки бульон нагреть до кипения и варить в течение 15-20 минут, затем заправить красным острым перцем. Для улучшения вкуса в бульон можно добавить небольшое количество сахара. \n",
            "Значение:  1\n",
            "Контекст:  В Венеции, где он не смог побывать, они были для него приготовлены 43. Это маринованные почки вечнозелёного средиземноморского кустарника Cappris spinosa, которые использовались как острая приправа к супам и мясным блюдам 44. Реже среди подарков фигурировали устрицы. Известно, что они закупались для угощения гостей во время Великого посольства 45. \n",
            "Значение:  1\n",
            "Контекст:  А через год признали справедливость его слов и отметили уровень, на котором находится лаборатория. Плотные листы ватмана заполнены неумелыми, почти детскими рисунками ― художников в лаборатории нет, ― испещрены краткими, острыми шутками. Это номера стенгазеты, выпущенные к каждой из таких научных конференций. Всюду нарисована воронка «ВВ» и тщательно отмечен уровень \n",
            "Значение:  3\n",
            "Контекст:  Никогда не видел, чтобы фраза состояла из одного местоимения. В таких случаях надо иметь острый язык и быстро соображающую голову.  \n",
            "Значение:  5\n",
            "Контекст:  Странно: последнее время дискуссий вроде бы стало больше, но ощущение пошлости усилилось. Не оттого ли, что теперь дозволены острые слова? Это даже поощряется. Кричите о коррупции и катастрофах, обвиняйте «верхи» \n",
            "Значение:  3\n",
            "Контекст:  Мистер Рай Руп обнаружил выдающуюся эрудицию в области русской истории. С ним было чрезвычайно приятно беседовать ― обмениваться короткими, острыми замечаниями. Они сделали километров сто. Мистер Рай Руп безошибочно отнес маленькую деревянную почерневшую от времени церковку в одной из отдаленных казачьих станиц к началу восемнадцатого века. \n",
            "Значение:  4\n",
            "Контекст:  Кое-кто пытался извернуться, быть оригинальным. Лучше всех это удалось одному физику, известному своим острым умом и своеобразностью мышления. ― Небось замучили, все спрашивают про кенгуру? ― сказал он. ― Точно угадал, ― обрадовался я. \n",
            "Значение:  5\n",
            "Контекст:  Максимальной скорости полёта 180 км/ ч, а по некоторым данным и 300 км/ ч, достигает при пикировании сокол сапсан. Самое острое зрение у беркута. Он замечает мышь с расстояния 1600 м, а кролика ― с 3 км. Наибольшая продолжительность жизни у королевского альбатроса ― до 80 лет.  \n",
            "Значение:  4\n",
            "Контекст:  Погляди на него тайком… По-видимому, острое чутье поэта ощущало запах грозы в воздухе. А чем тогда объяснить другое сбывшееся предсказание двадцатилетней в 1913 году Цветаевой? \n",
            "Значение:  5\n",
            "Контекст:  ― Именно поэтому я здесь, ― ответила Сперо. ― Мы знаем, что у менеджмента острый нюх на такие вещи, ― сказал Серж. ― Другого способа быть услышанными у нас просто не было. ― Что вы натворили? \n",
            "Значение:  5\n"
          ],
          "name": "stdout"
        },
        {
          "output_type": "stream",
          "text": [
            "/usr/local/lib/python3.6/dist-packages/adagram/model.py:171: RuntimeWarning: divide by zero encountered in log\n",
            "  z = np.log(z)\n"
          ],
          "name": "stderr"
        }
      ]
    },
    {
      "cell_type": "markdown",
      "metadata": {
        "id": "vFYGb4sKLZf5",
        "colab_type": "text"
      },
      "source": [
        "# **3**"
      ]
    },
    {
      "cell_type": "markdown",
      "metadata": {
        "id": "V3PvZ56LvUGh",
        "colab_type": "text"
      },
      "source": [
        "Возьмите словарные толкования для каждого значения и припишите ему значение автоматически тем же способом, что и в п.2.\n",
        "\n"
      ]
    },
    {
      "cell_type": "code",
      "metadata": {
        "id": "jzrCKXhpvVeg",
        "colab_type": "code",
        "colab": {}
      },
      "source": [
        "def_spicy = 'С большим количеством соли, пряностей, специй; едкий, пряный. Острые блюда. Острый сыр. Острый перец. Острая горчица. Острый соус. Острая пища. Острая приправа.'\n",
        "def_acute = ' Остроумный, язвительный. Острое словцо. Острая шутка. Острый язык у кого-либо (об остроумном, язвительном человеке).'\n",
        "def_sharp = 'Хорошо развитой, изощрённый, тонкий (о слухе, зрении, памяти и т.п.). Острое зрение. Острое обоняние. Острое чутьё. Острый ум (пытливый). Острый взгляд (проницательный). '\n",
        "\n",
        "defs = [def_spicy, def_acute, def_sharp]"
      ],
      "execution_count": 0,
      "outputs": []
    },
    {
      "cell_type": "code",
      "metadata": {
        "id": "Ks6bHnD01oe6",
        "colab_type": "code",
        "colab": {
          "base_uri": "https://localhost:8080/",
          "height": 203
        },
        "outputId": "a4376660-e7b2-487e-996d-4cf4d3539ee1"
      },
      "source": [
        "def_defs = []\n",
        "auto_def(defs, vm, def_defs)"
      ],
      "execution_count": 17,
      "outputs": [
        {
          "output_type": "stream",
          "text": [
            "Контекст:  С большим количеством соли, пряностей, специй; едкий, пряный. Острые блюда. Острый сыр. Острый перец. Острая горчица. Острый соус. Острая пища. Острая приправа. \n",
            "Значение:  1\n",
            "Контекст:   Остроумный, язвительный. Острое словцо. Острая шутка. Острый язык у кого-либо (об остроумном, язвительном человеке). \n",
            "Значение:  5\n",
            "Контекст:  Хорошо развитой, изощрённый, тонкий (о слухе, зрении, памяти и т.п.). Острое зрение. Острое обоняние. Острое чутьё. Острый ум (пытливый). Острый взгляд (проницательный).  \n",
            "Значение:  5\n"
          ],
          "name": "stdout"
        },
        {
          "output_type": "stream",
          "text": [
            "/usr/local/lib/python3.6/dist-packages/adagram/model.py:171: RuntimeWarning: divide by zero encountered in log\n",
            "  z = np.log(z)\n"
          ],
          "name": "stderr"
        },
        {
          "output_type": "execute_result",
          "data": {
            "text/plain": [
              "[1, 5, 5]"
            ]
          },
          "metadata": {
            "tags": []
          },
          "execution_count": 17
        }
      ]
    },
    {
      "cell_type": "markdown",
      "metadata": {
        "id": "p-5FBSREVjwj",
        "colab_type": "text"
      },
      "source": [
        "# **4**"
      ]
    },
    {
      "cell_type": "markdown",
      "metadata": {
        "id": "X-7G51jO2HkA",
        "colab_type": "text"
      },
      "source": [
        "Придумайте и реализуйте способ соотнести толкования с значениями с помощью тезауруса (Wiki_ru_wordnet / РуТез)."
      ]
    },
    {
      "cell_type": "code",
      "metadata": {
        "id": "2WfWz8PkkAbe",
        "colab_type": "code",
        "colab": {
          "base_uri": "https://localhost:8080/",
          "height": 294
        },
        "outputId": "7d00dd41-4f81-487a-b0ec-38acf9fc7838"
      },
      "source": [
        "!pip install pymorphy2"
      ],
      "execution_count": 18,
      "outputs": [
        {
          "output_type": "stream",
          "text": [
            "Collecting pymorphy2\n",
            "\u001b[?25l  Downloading https://files.pythonhosted.org/packages/a3/33/fff9675c68b5f6c63ec8c6e6ff57827dda28a1fa5b2c2d727dffff92dd47/pymorphy2-0.8-py2.py3-none-any.whl (46kB)\n",
            "\r\u001b[K     |███████                         | 10kB 19.9MB/s eta 0:00:01\r\u001b[K     |██████████████▏                 | 20kB 1.7MB/s eta 0:00:01\r\u001b[K     |█████████████████████▎          | 30kB 2.6MB/s eta 0:00:01\r\u001b[K     |████████████████████████████▍   | 40kB 1.7MB/s eta 0:00:01\r\u001b[K     |████████████████████████████████| 51kB 1.7MB/s \n",
            "\u001b[?25hCollecting dawg-python>=0.7\n",
            "  Downloading https://files.pythonhosted.org/packages/6a/84/ff1ce2071d4c650ec85745766c0047ccc3b5036f1d03559fd46bb38b5eeb/DAWG_Python-0.7.2-py2.py3-none-any.whl\n",
            "Requirement already satisfied: docopt>=0.6 in /usr/local/lib/python3.6/dist-packages (from pymorphy2) (0.6.2)\n",
            "Collecting pymorphy2-dicts<3.0,>=2.4\n",
            "\u001b[?25l  Downloading https://files.pythonhosted.org/packages/02/51/2465fd4f72328ab50877b54777764d928da8cb15b74e2680fc1bd8cb3173/pymorphy2_dicts-2.4.393442.3710985-py2.py3-none-any.whl (7.1MB)\n",
            "\u001b[K     |████████████████████████████████| 7.1MB 8.2MB/s \n",
            "\u001b[?25hInstalling collected packages: dawg-python, pymorphy2-dicts, pymorphy2\n",
            "Successfully installed dawg-python-0.7.2 pymorphy2-0.8 pymorphy2-dicts-2.4.393442.3710985\n"
          ],
          "name": "stdout"
        }
      ]
    },
    {
      "cell_type": "code",
      "metadata": {
        "id": "Rj2-inVSj997",
        "colab_type": "code",
        "colab": {}
      },
      "source": [
        "from pymorphy2 import MorphAnalyzer\n",
        "morph = MorphAnalyzer()\n",
        "token = RegexpTokenizer('\\w+')"
      ],
      "execution_count": 0,
      "outputs": []
    },
    {
      "cell_type": "code",
      "metadata": {
        "id": "wiFSSzdjjwqY",
        "colab_type": "code",
        "colab": {}
      },
      "source": [
        "def normalize_pm(text):\n",
        "    words = [morph.parse(word)[0].normal_form for word in tokenize(text) if word]\n",
        "    return words\n",
        "\n",
        "def tokenize(text):\n",
        "    return token.tokenize(text)"
      ],
      "execution_count": 0,
      "outputs": []
    },
    {
      "cell_type": "code",
      "metadata": {
        "id": "Qs69HklakdUX",
        "colab_type": "code",
        "colab": {}
      },
      "source": [
        "#нормализуем все три толкования\n",
        "\n",
        "def_spicy_s = set(normalize_pm(def_spicy))\n",
        "def_acute_s = set(normalize_pm(def_acute))\n",
        "def_sharp_s = set(normalize_pm(def_sharp))"
      ],
      "execution_count": 0,
      "outputs": []
    },
    {
      "cell_type": "code",
      "metadata": {
        "id": "PLe_bq7n2ILi",
        "colab_type": "code",
        "colab": {}
      },
      "source": [
        "def context_to_meaning(contexts,  spicy, acute, sharp, defs):\n",
        "\n",
        "  for context in contexts:\n",
        "    n = {}\n",
        "    print('ОСТРЫЙ В ЭТОМ ПРИМЕРЕ ИЗ НКРЯ: ', context)\n",
        "    n[len(set(normalize_pm(context)).intersection(spicy))] = defs[0]\n",
        "    n[len(set(normalize_pm(context)).intersection(acute))] = defs[1]\n",
        "    n[len(set(normalize_pm(context)).intersection(sharp))] = defs[2]\n",
        "\n",
        "    print('ВЕРОЯТНЕЕ ВСЕГО ИСПОЛЬЗОВАНО В ЗНАЧЕНИИ: ', n[max(n.keys())], '\\n')"
      ],
      "execution_count": 0,
      "outputs": []
    },
    {
      "cell_type": "code",
      "metadata": {
        "id": "27ea8vHRjgGk",
        "colab_type": "code",
        "colab": {
          "base_uri": "https://localhost:8080/",
          "height": 303
        },
        "outputId": "8d0924fc-c40b-4bc4-9f6a-a60dd2091451"
      },
      "source": [
        "context_to_meaning(spicy_contexts, def_spicy_s, def_acute_s, def_sharp_s, defs)"
      ],
      "execution_count": 23,
      "outputs": [
        {
          "output_type": "stream",
          "text": [
            "ОСТРЫЙ В ЭТОМ ПРИМЕРЕ ИЗ НКРЯ:  Затем наступает время занятий. В шесть часов дежурные подают скромный завтрак: рис, варёные овощи и кимчи (традиционное острое блюдо из овощей). После завтрака монахи читают священные тексты и предаются размышлениям.\n",
            "ВЕРОЯТНЕЕ ВСЕГО ИСПОЛЬЗОВАНО В ЗНАЧЕНИИ:  Хорошо развитой, изощрённый, тонкий (о слухе, зрении, памяти и т.п.). Острое зрение. Острое обоняние. Острое чутьё. Острый ум (пытливый). Острый взгляд (проницательный).  \n",
            "\n",
            "ОСТРЫЙ В ЭТОМ ПРИМЕРЕ ИЗ НКРЯ:  Павел молча поднялся и стал пробираться к стойке. Настя с ужасом думала о еще одной порции не в меру острой еды. Но ей хотелось непременно отправить Павла через весь зал, чтобы проверить свои подозрения. Ей нужно было понаблюдать за ним со стороны.\n",
            "ВЕРОЯТНЕЕ ВСЕГО ИСПОЛЬЗОВАНО В ЗНАЧЕНИИ:  Хорошо развитой, изощрённый, тонкий (о слухе, зрении, памяти и т.п.). Острое зрение. Острое обоняние. Острое чутьё. Острый ум (пытливый). Острый взгляд (проницательный).  \n",
            "\n",
            "ОСТРЫЙ В ЭТОМ ПРИМЕРЕ ИЗ НКРЯ:  –  Поверьте мне, Ольга, для тех, кто не употребляет горячительные напитки, острая еда – самый лучший способ согреться. –  Спасибо.  – Она взяла тарелку и стала осматриваться в поисках места, где можно было бы присесть или хотя бы удобно встать, желательно, в одиночестве.\n",
            "ВЕРОЯТНЕЕ ВСЕГО ИСПОЛЬЗОВАНО В ЗНАЧЕНИИ:  Хорошо развитой, изощрённый, тонкий (о слухе, зрении, памяти и т.п.). Острое зрение. Острое обоняние. Острое чутьё. Острый ум (пытливый). Острый взгляд (проницательный).  \n",
            "\n",
            "ОСТРЫЙ В ЭТОМ ПРИМЕРЕ ИЗ НКРЯ:  Процеженный мясной бульон осветлить; оттяжку приготовить из дичи, тонко нарезанной свеклы, уксуса и яичных белков. После добавления оттяжки бульон нагреть до кипения и варить в течение 15-20 минут, затем заправить красным острым перцем. Для улучшения вкуса в бульон можно добавить небольшое количество сахара.\n",
            "ВЕРОЯТНЕЕ ВСЕГО ИСПОЛЬЗОВАНО В ЗНАЧЕНИИ:  С большим количеством соли, пряностей, специй; едкий, пряный. Острые блюда. Острый сыр. Острый перец. Острая горчица. Острый соус. Острая пища. Острая приправа. \n",
            "\n",
            "ОСТРЫЙ В ЭТОМ ПРИМЕРЕ ИЗ НКРЯ:  В Венеции, где он не смог побывать, они были для него приготовлены 43. Это маринованные почки вечнозелёного средиземноморского кустарника Cappris spinosa, которые использовались как острая приправа к супам и мясным блюдам 44. Реже среди подарков фигурировали устрицы. Известно, что они закупались для угощения гостей во время Великого посольства 45.\n",
            "ВЕРОЯТНЕЕ ВСЕГО ИСПОЛЬЗОВАНО В ЗНАЧЕНИИ:  С большим количеством соли, пряностей, специй; едкий, пряный. Острые блюда. Острый сыр. Острый перец. Острая горчица. Острый соус. Острая пища. Острая приправа. \n",
            "\n"
          ],
          "name": "stdout"
        }
      ]
    },
    {
      "cell_type": "code",
      "metadata": {
        "id": "Rsv9ugIjnMoK",
        "colab_type": "code",
        "colab": {
          "base_uri": "https://localhost:8080/",
          "height": 254
        },
        "outputId": "6b833250-48ba-4dcb-831e-493e1cb56f71"
      },
      "source": [
        "context_to_meaning(acute_contexts, def_spicy_s, def_acute_s, def_sharp_s, defs)"
      ],
      "execution_count": 24,
      "outputs": [
        {
          "output_type": "stream",
          "text": [
            "ОСТРЫЙ В ЭТОМ ПРИМЕРЕ ИЗ НКРЯ:  А через год признали справедливость его слов и отметили уровень, на котором находится лаборатория. Плотные листы ватмана заполнены неумелыми, почти детскими рисунками ― художников в лаборатории нет, ― испещрены краткими, острыми шутками. Это номера стенгазеты, выпущенные к каждой из таких научных конференций. Всюду нарисована воронка «ВВ» и тщательно отмечен уровень\n",
            "ВЕРОЯТНЕЕ ВСЕГО ИСПОЛЬЗОВАНО В ЗНАЧЕНИИ:  Хорошо развитой, изощрённый, тонкий (о слухе, зрении, памяти и т.п.). Острое зрение. Острое обоняние. Острое чутьё. Острый ум (пытливый). Острый взгляд (проницательный).  \n",
            "\n",
            "ОСТРЫЙ В ЭТОМ ПРИМЕРЕ ИЗ НКРЯ:  Никогда не видел, чтобы фраза состояла из одного местоимения. В таких случаях надо иметь острый язык и быстро соображающую голову. \n",
            "ВЕРОЯТНЕЕ ВСЕГО ИСПОЛЬЗОВАНО В ЗНАЧЕНИИ:  Хорошо развитой, изощрённый, тонкий (о слухе, зрении, памяти и т.п.). Острое зрение. Острое обоняние. Острое чутьё. Острый ум (пытливый). Острый взгляд (проницательный).  \n",
            "\n",
            "ОСТРЫЙ В ЭТОМ ПРИМЕРЕ ИЗ НКРЯ:  Странно: последнее время дискуссий вроде бы стало больше, но ощущение пошлости усилилось. Не оттого ли, что теперь дозволены острые слова? Это даже поощряется. Кричите о коррупции и катастрофах, обвиняйте «верхи»\n",
            "ВЕРОЯТНЕЕ ВСЕГО ИСПОЛЬЗОВАНО В ЗНАЧЕНИИ:  Хорошо развитой, изощрённый, тонкий (о слухе, зрении, памяти и т.п.). Острое зрение. Острое обоняние. Острое чутьё. Острый ум (пытливый). Острый взгляд (проницательный).  \n",
            "\n",
            "ОСТРЫЙ В ЭТОМ ПРИМЕРЕ ИЗ НКРЯ:  Мистер Рай Руп обнаружил выдающуюся эрудицию в области русской истории. С ним было чрезвычайно приятно беседовать ― обмениваться короткими, острыми замечаниями. Они сделали километров сто. Мистер Рай Руп безошибочно отнес маленькую деревянную почерневшую от времени церковку в одной из отдаленных казачьих станиц к началу восемнадцатого века.\n",
            "ВЕРОЯТНЕЕ ВСЕГО ИСПОЛЬЗОВАНО В ЗНАЧЕНИИ:  С большим количеством соли, пряностей, специй; едкий, пряный. Острые блюда. Острый сыр. Острый перец. Острая горчица. Острый соус. Острая пища. Острая приправа. \n",
            "\n"
          ],
          "name": "stdout"
        }
      ]
    },
    {
      "cell_type": "code",
      "metadata": {
        "id": "fxzVdwPOq0sA",
        "colab_type": "code",
        "colab": {
          "base_uri": "https://localhost:8080/",
          "height": 254
        },
        "outputId": "a77fb7f8-3730-48ac-e55c-af506c1fa267"
      },
      "source": [
        "context_to_meaning(sharp_contexts, def_spicy_s, def_acute_s, def_sharp_s, defs)"
      ],
      "execution_count": 25,
      "outputs": [
        {
          "output_type": "stream",
          "text": [
            "ОСТРЫЙ В ЭТОМ ПРИМЕРЕ ИЗ НКРЯ:  Кое-кто пытался извернуться, быть оригинальным. Лучше всех это удалось одному физику, известному своим острым умом и своеобразностью мышления. ― Небось замучили, все спрашивают про кенгуру? ― сказал он. ― Точно угадал, ― обрадовался я.\n",
            "ВЕРОЯТНЕЕ ВСЕГО ИСПОЛЬЗОВАНО В ЗНАЧЕНИИ:  Хорошо развитой, изощрённый, тонкий (о слухе, зрении, памяти и т.п.). Острое зрение. Острое обоняние. Острое чутьё. Острый ум (пытливый). Острый взгляд (проницательный).  \n",
            "\n",
            "ОСТРЫЙ В ЭТОМ ПРИМЕРЕ ИЗ НКРЯ:  Максимальной скорости полёта 180 км/ ч, а по некоторым данным и 300 км/ ч, достигает при пикировании сокол сапсан. Самое острое зрение у беркута. Он замечает мышь с расстояния 1600 м, а кролика ― с 3 км. Наибольшая продолжительность жизни у королевского альбатроса ― до 80 лет. \n",
            "ВЕРОЯТНЕЕ ВСЕГО ИСПОЛЬЗОВАНО В ЗНАЧЕНИИ:  Хорошо развитой, изощрённый, тонкий (о слухе, зрении, памяти и т.п.). Острое зрение. Острое обоняние. Острое чутьё. Острый ум (пытливый). Острый взгляд (проницательный).  \n",
            "\n",
            "ОСТРЫЙ В ЭТОМ ПРИМЕРЕ ИЗ НКРЯ:  Погляди на него тайком… По-видимому, острое чутье поэта ощущало запах грозы в воздухе. А чем тогда объяснить другое сбывшееся предсказание двадцатилетней в 1913 году Цветаевой?\n",
            "ВЕРОЯТНЕЕ ВСЕГО ИСПОЛЬЗОВАНО В ЗНАЧЕНИИ:  Хорошо развитой, изощрённый, тонкий (о слухе, зрении, памяти и т.п.). Острое зрение. Острое обоняние. Острое чутьё. Острый ум (пытливый). Острый взгляд (проницательный).  \n",
            "\n",
            "ОСТРЫЙ В ЭТОМ ПРИМЕРЕ ИЗ НКРЯ:  ― Именно поэтому я здесь, ― ответила Сперо. ― Мы знаем, что у менеджмента острый нюх на такие вещи, ― сказал Серж. ― Другого способа быть услышанными у нас просто не было. ― Что вы натворили?\n",
            "ВЕРОЯТНЕЕ ВСЕГО ИСПОЛЬЗОВАНО В ЗНАЧЕНИИ:   Остроумный, язвительный. Острое словцо. Острая шутка. Острый язык у кого-либо (об остроумном, язвительном человеке). \n",
            "\n"
          ],
          "name": "stdout"
        }
      ]
    },
    {
      "cell_type": "markdown",
      "metadata": {
        "id": "sORYLlU6tKyK",
        "colab_type": "text"
      },
      "source": [
        "Проблемы такого метода сопоставления: \n",
        "- для значения \"с большим количеством соли/специй\" состоят в том, что только для двух примеров из пяти, это значение было приписано\n",
        "- для значения \"остроумный\" состоят в том, что ни для одного примера это значение было приписано. \n",
        "\n",
        "При этом самыми \"успешными\" контекстами оказалсиь примеры для значения \"хорошо развитой\": для 3 из 4 примеров правильно были приписаны толкования"
      ]
    },
    {
      "cell_type": "markdown",
      "metadata": {
        "id": "jRmKz_ijuhen",
        "colab_type": "text"
      },
      "source": [
        "Эти проблемы могут быть связаны с тем, как выбирается более походящее значение по персечению отнормированных и токенизированных сетов. Значения записываются в словарь, причем для того, чтобы потом можно было выбрать лучшее значение и сопоставить ему контекст, все записывается в словарь типа пересечение (ключ) - толкование (значение). Соответственно, при условии, что несколько токлований получают одинаковый скор при пересечении с примерами, записывается последний (точнее, перезаписывается). Даже если бы сохранялись оба, как бы мы сделали так, чтобы компьютер правильно выбрал из двух одинаково оцененных значений то, что подходит больше? Возможно, подобные проблемы возникли из-за того, что сами диагностичсекие слова и, как следтсвие, примеыр из НКРЯ были выбраны неправильно (но эту проблему решить сложнее, у меня очень плохо с семантикой, я очень плохой носитель русского языка и не умею в интроспекцию и внутренний анализ, не всегда чувстую разные значения, точнее не всегд амогу их объянсить). Также может возникнуть проблема, связанная с тем, что при препроцессинге примеров и толкований не удаляются стоп-слова. В нашем случае наличие стоп-слов никак не повлияло, но это такой note to myself in future."
      ]
    },
    {
      "cell_type": "markdown",
      "metadata": {
        "id": "l5bmSncurFiw",
        "colab_type": "text"
      },
      "source": [
        "# **5**"
      ]
    },
    {
      "cell_type": "markdown",
      "metadata": {
        "id": "xt4sb9_qrudc",
        "colab_type": "text"
      },
      "source": [
        "Оцените accuracy — в какой доле контекстов автоматически определенно значение для контекста совпадает с автоматически определенным значением толкования."
      ]
    },
    {
      "cell_type": "code",
      "metadata": {
        "id": "JONcyT6kq43x",
        "colab_type": "code",
        "colab": {
          "base_uri": "https://localhost:8080/",
          "height": 32
        },
        "outputId": "f4e84782-d9a3-47e9-99fe-d930f1d33787"
      },
      "source": [
        "def_cons"
      ],
      "execution_count": 26,
      "outputs": [
        {
          "output_type": "execute_result",
          "data": {
            "text/plain": [
              "[1, 5, 5, 1, 1, 3, 5, 3, 4, 5, 4, 5, 5]"
            ]
          },
          "metadata": {
            "tags": []
          },
          "execution_count": 26
        }
      ]
    },
    {
      "cell_type": "code",
      "metadata": {
        "id": "ji5FYWY1rJuD",
        "colab_type": "code",
        "colab": {}
      },
      "source": [
        "def_defs = [def_defs[0]]*5 + [def_defs[1]]*4 + [def_defs[2]]*4"
      ],
      "execution_count": 0,
      "outputs": []
    },
    {
      "cell_type": "code",
      "metadata": {
        "id": "Rp99KYvkrSGc",
        "colab_type": "code",
        "colab": {
          "base_uri": "https://localhost:8080/",
          "height": 32
        },
        "outputId": "0f25bc7e-0666-40dc-bd90-90d66f2bfef8"
      },
      "source": [
        "def_defs"
      ],
      "execution_count": 28,
      "outputs": [
        {
          "output_type": "execute_result",
          "data": {
            "text/plain": [
              "[1, 1, 1, 1, 1, 5, 5, 5, 5, 5, 5, 5, 5]"
            ]
          },
          "metadata": {
            "tags": []
          },
          "execution_count": 28
        }
      ]
    },
    {
      "cell_type": "code",
      "metadata": {
        "id": "NDo_OIG5rMBb",
        "colab_type": "code",
        "colab": {
          "base_uri": "https://localhost:8080/",
          "height": 32
        },
        "outputId": "66ed5aff-b6b0-40f3-e4fd-1aa597dad194"
      },
      "source": [
        "from sklearn.metrics import accuracy_score\n",
        "\n",
        "accuracy_score(def_defs, def_cons)"
      ],
      "execution_count": 29,
      "outputs": [
        {
          "output_type": "execute_result",
          "data": {
            "text/plain": [
              "0.5384615384615384"
            ]
          },
          "metadata": {
            "tags": []
          },
          "execution_count": 29
        }
      ]
    }
  ]
}